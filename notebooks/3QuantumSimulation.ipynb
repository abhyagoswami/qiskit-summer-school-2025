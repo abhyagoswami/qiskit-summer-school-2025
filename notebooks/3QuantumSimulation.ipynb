{
 "cells": [
  {
   "cell_type": "markdown",
   "id": "467ae2ba",
   "metadata": {},
   "source": [
    "# 3 Introduction to Quantum Simulation\n",
    "\n",
    "First let's recall basics to help us understand further concepts. Recall that Euclidean space $\\mathbb{R}^n$ is the familiar gemoetric space where $\\mathbb{R}^2$ is a plane, $\\mathbb{R}^3$ is the 3D space, and so on. Vectors in $\\mathbb{R}^n$ are $n$-dimensional vectors: $\\hat{v} = (v_1, v_2, ..., v_n)$, and the dot product $\\hat{v} \\cdot \\hat{u}$. Quantum states do not live in the $\\mathbb{R}^n$ Euclidean space, but rather in a **complex** vector space that often has infinite dimensions, called the **Hilbert space**. Formally, a Hilbert space $\\mathcal{H}$ is a vector space over the complex numbers $\\mathbb{C}$ that is a complete inner product space. Essentially, you can measure lengths and angles using the inner product and all Cauchy sequences converge (completeness).\n",
    "\n",
    "\n",
    "### 3.1 Postulates of Quantum Mechanics\n",
    "Now, there are certain postulates that we must consider to be true in quantum mechanics. There are five postulates which enable us to understand:\n",
    "- How a quantum state is described at any given time $t$.\n",
    "- How to calculate the various physical quantities from this quantum state.\n",
    "- How to follow the time evolution of a given quantum state.\n",
    "\n",
    "The postulates are as follows:\n",
    "1. **State vector**: every quantum system is completely described at any time by a state vector $∣ψ(t)⟩$ in a (complex) Hilbert space $\\mathcal{H}$. Any superposition of state vectors $∣ψ_1⟩$ and $∣ψ_2⟩$ is also a state vector $\\alpha∣ψ_1⟩ + \\beta∣ψ_2⟩$ for $\\alpha, \\beta \\in \\mathbb{C}$.\n",
    "2. **Observables as Hermitian Operators**: every measurable physical quantity $A$ known as an observable, is represented as a Hermitian operator $\\hat{A}$ whose eigenvalues form a complete basis.\n",
    "\n",
    "3. **Measurements & Eigenvalues**: if you measure observable $\\hat A$ on a system in state $\\lvert \\psi(t) \\rangle$, the only possible results are its eigenvalues $a_i$.\n",
    "- Suppose we have an eigenvalue equation $\\hat{A}∣a_i⟩ = a_i∣a_i⟩$ where $a_i$ are the eigenvalues and $∣a_i⟩$ the eigenvectors. Then any state $∣ψ⟩$ can be represented as $∣ψ⟩ = \\sum_i c_i∣a_i⟩$ and $c_i = \\langle a_i | \\psi \\rangle$. \n",
    "- When you measure an observable (like a particle's position, spin, momentum, etc.) in state $∣ψ⟩$, you get an outcome $a_i$ (an eigenvalue).\n",
    "\n",
    "4. **Probability of Outcomes**: when we measure a system that is in state $\\lvert\\psi\\rangle\\$, the probability of obtaining one of the nondegenerate eigenvalues $a_i$ is given by $P(a_i) = \\frac{\\bigl|\\langle \\psi_i \\mid \\psi\\rangle\\bigr|^2}{\\langle \\psi \\mid \\psi\\rangle}$. \n",
    "\n",
    "5. **Time Evolution of System**: the state of a system evolves according to the time-dependent Schrödinger equation $i\\hbar\\,\\frac{d}{dt}\\,\\lvert\\psi(t)\\rangle \\;=\\; \\hat H\\,\\lvert\\psi(t)\\rangle$ where $\\bar{h}$ is the reduced Planck constant and $\\hat H$ is the system’s **Hamiltonian** (the total energy operator, Hermitian). \n",
    "- The formal solution is $\\lvert\\psi(t)\\rangle = e^{-iH\\,t}\\;\\lvert\\psi(0)\\rangle$.\n"
   ]
  }
 ],
 "metadata": {
  "language_info": {
   "name": "python"
  }
 },
 "nbformat": 4,
 "nbformat_minor": 5
}
