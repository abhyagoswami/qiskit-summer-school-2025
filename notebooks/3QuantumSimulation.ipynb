{
 "cells": [
  {
   "cell_type": "markdown",
   "id": "467ae2ba",
   "metadata": {},
   "source": [
    "# 3 Introduction to Quantum Simulation\n",
    "\n",
    "Quantum simulation is the use of a quantum system (like a quantum computer) to mimic the behaviour of another more complex quantum system. At its heart, it uses the fact that quantum hardware lives in exponentially large Hilbert spaces without the prohibitive overhead faced by classical computers.\n",
    "\n",
    "**Why do classical bits fail?**\n",
    "\n",
    "We know that each classical bit has $2$ configurations, $0$ or $1$, and thus $n$ classical bits have $2^n$ different configurations (but can only be in one of them at a time). Suppose we had to iterate all combinations. Once we reach larger sizes like $n=60$, modern computers require massive amounts of computing power and decades of compute time. Beyond this, even adding a few more bits makes iteration impossible (unless you're willing to wait bill)\n",
    "\n",
    "**The quantum advantage**\n",
    "\n",
    "In contrast, a single qubit lives in a 2-dimensional Hilbert space, spanned by $\\lvert0\\rangle$ and $\\lvert1\\rangle$. This means that every possible qubit state $|\\psi \\rangle$ can be written as $|\\psi \\rangle = \\alpha|0 \\rangle + \\beta|1 \\rangle$ where $\\alpha, \\beta \\in \\mathbb{C}$. Similarly, two qubits live in a $2 \\times 2 = 4$-dimensional space. In general, $n$ qubits live in a Hilbert space of dimension $2^n$.\n",
    "\n",
    "A quantum simulator can **directly map** the target system’s Hamiltonian $\\hat H$ onto its own qubits.  Its unitary evolution $ U(t)=e^{-i\\hat H t} $ happens “for free,” bypassing the need to store or multiply huge matrices classically."
   ]
  },
  {
   "cell_type": "markdown",
   "id": "dd7310e8",
   "metadata": {},
   "source": [
    "### 3.1 Classical (Numerical) Quantum Simulation\n",
    "Using classical computers and algorithms, we can approximate the behavior of quantum systems. Since we don’t yet have large, fault-tolerant quantum machines, we must rely on numerical methods for certain problems. Each approximation comes with exponential‐cost bottlenecks, and must be cleverly factorised or reduced (we don't explore this here). \n",
    "\n",
    "There are three main tasks to perform in quantum simultaion:\n",
    "\n",
    "1. **Eigenstate Solvers** - essentially algorithms that perform a diagonalisation for the Hamiltonian $\\hat{H}$.\n",
    "    - Given a Hamiltonian operator $\\hat H$, suppose electrons in a molecule, an **energy eigenstate** $\\lvert E_n\\rangle$ satisfies $ \\hat H\\,\\lvert E_n\\rangle = E_n\\,\\lvert E_n\\rangle $ where $E_n$ is the corresponding **eigenvalue** (energy level). \n",
    "   - **Goal:** Find the energy eigenvalues $E_n$ and eigenstates $\\lvert E_n\\rangle$ of $\\hat H$. Often, we wish to find the lowest eigenvalue $E_0$ (ground energy) and eigenstate $|E_0 \\rangle$.\n",
    "   - **Challenge:** $\\hat{H}$ may be a giant $2^n \\times 2^n$ matrix. Diagonalising it by brute force takes $\\mathcal O(2^{3n})$ on a classical machine. \n",
    "        <details>\n",
    "        <summary>What is diagonalisation?</summary>\n",
    "\n",
    "        Diagonalisation of a matrix $A$ means finding an invertible matrix $P$ and a diagonal matrix $D$ such that $A = P\\,D\\,P^{-1}$ where the diagonal entries of $D$ are the eigenvalues of $A$. \n",
    "\n",
    "        For example, consider the Pauli-Z gate $Z = \\begin{pmatrix} 1 & 0 \\\\[6pt] 0 & -1 \\end{pmatrix}$. Its eigenvalues (diagonal values) are $1$ and $-1$, with corresponding eigenvectors $\\lvert0\\rangle$ and $\\lvert1\\rangle$ respectively. If we choose $P = \\bigl[\\lvert0\\rangle,\\;\\lvert1\\rangle\\bigr] = \\begin{pmatrix} 1 & 0 \\\\[4pt] 0 & 1 \\end{pmatrix}, \\quad D = \\begin{pmatrix} 1 & 0 \\\\[6pt] 0 & -1 \\end{pmatrix}$, then clearly $Z = P\\,D\\,P^{-1}$ since $P$ is the identity.  In a basis where $Z$ were not diagonal, you would use the matrix of its eigenvectors $P$ to rotate it into the form $D$. \n",
    "\n",
    "        **Key point**: diagonalisation rewrites any operator in the basis of its eigenvectors so that its action is just multiplying each basis vector by the corresponding eigenvalue.\n",
    "        </details>\n",
    "\n",
    "2. **Quantum Dynamics**  \n",
    "   - **Goal:** understanding how the system evolves in time.\n",
    "     $$\n",
    "       \\lvert\\psi(t)\\rangle = e^{-i\\hat H t}\\,\\lvert\\psi(0)\\rangle.\n",
    "     $$  \n",
    "   - This generally relates to components of the system reacting with each other along with a time dependence. For example, understanding the time evolution of two molecules undergoing a chemical reaction. \n",
    "\n",
    "3. **Quantum Phase Transitions**  \n",
    "   - **Goal:** characterise abrupt changes in the **ground state** of a quantum system as you vary a control parameter.\n",
    "   - Classical phase transitions occur with thermal fluctuations (temperature changes), for example water freezing/boiling/melting. Contrastingly, quantum phase transitions arise purely from quantum fluctuations from things like changing temperature, pressure, magnetic field, etc.\n",
    "   - **Significance:** Mapping phase diagrams reveals superconductivity, magnetism, topological orders, and other exotic states.\n",
    "\n",
    "The very same tasks can, in principle, be carried out natively on a quantum device."
   ]
  },
  {
   "cell_type": "markdown",
   "id": "996130be",
   "metadata": {},
   "source": [
    "### 3.2 Quantum (Hardware) Quantum Simulation\n",
    "\n",
    "Earlier we explored using abstract algorithms or mathematical manipulations to simulate quantum behaviour. For example, MoS₂ (molybdenum and sulfur) is a one-atom-thick semiconductor which exhibits a direct electronic band-gap in its single-layer form, making it promising for ultrathin electronics. We can simulate such materials to predict properties before you make or measure (or build) anything, even guide experiments or design new materials. \n",
    "\n",
    "**In practice, what would we simulate?**\n",
    "- The material's Hamiltonian $\\hat{H}$ describing electrons hopping between Mo and S orbitals plus their Coulomb interactions.\n",
    "- Compute its ground-state energy and band structure(eigenvalues of $\\hat{H}$).\n",
    "- Study excitons (bound electron–hole pairs), defects, or how the gap changes under strain. \n",
    "\n",
    "However,simulating such materials on a classical computer quickly runs into the same exponential “state‐space” wall we see in toy quantum problems.  To make progress, classical physicists and chemists have developed **approximate** methods that trade off exactness for tractability.  The two tools are **tensor‐network methods** and **density functional theory**.\n",
    "\n",
    "1. **Tensor‐Network Methods**:\n",
    "    - Consider the fact that each particle can be entangled with many others ($n=100$ gives $2^{100}$), leading to an exponential number of states. Instead of mapping all combinations, we can cleverly store only the important/likely connections.\n",
    "    - We can represent quantum states as networks of tensors, allowing efficient storage and manipulation of high-dimensional data. \n",
    "    - This works best for 1D systems (like a line of electrons). For 2D systems or very entangled ones (likes grids or lattices), it is much harder to compute.\n",
    "\n",
    "2. **Density Functional Theory (DFT)**:\n",
    "    - DFT is a quantum mechanical method used to investigate the electronic structure of many-body systems, particularly atoms or molecules.\n",
    "    - If we focus on the full wavefunction $\\psi(\\mathbf{r}_1, \\mathbf{r}_2, \\ldots, \\mathbf{r}_N)$ of $N$ electrons, it becomes computationally infeasible for large systems due to the curse of dimensionality.\n",
    "    - Instead, it simplifies the problem by focusing on the electron density (how many in each spot). Mathematically, you can derive many properties of the system like energy from just the electron density.\n",
    "    "
   ]
  },
  {
   "cell_type": "markdown",
   "id": "146b3f72",
   "metadata": {},
   "source": []
  }
 ],
 "metadata": {
  "language_info": {
   "name": "python"
  }
 },
 "nbformat": 4,
 "nbformat_minor": 5
}
