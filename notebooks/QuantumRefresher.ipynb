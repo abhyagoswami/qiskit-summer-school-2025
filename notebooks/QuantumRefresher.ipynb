{
 "cells": [
  {
   "cell_type": "markdown",
   "id": "f91ebe77-bd84-4310-94d1-0db0b74481eb",
   "metadata": {},
   "source": [
    "# Quantum Computing Refresher\n",
    "\n",
    "A qubit is a basic unit of quantum computation, analogous to a bit in classical computation.\n",
    "Unlike a classical bit which can only be 0 or 1 at once, a qubit may exist in a superposition of both states simutaneously with some probability.\n",
    "\n",
    "The quantum states of 0 (ket 0) and 1 (ket 1) can be represented by vectors in Dirac notation:"
   ]
  },
  {
   "cell_type": "markdown",
   "id": "4686e388-099a-4de1-ab25-da5f9e0d9cb2",
   "metadata": {},
   "source": [
    "$\n",
    "\\lvert 0 \\rangle = \\begin{pmatrix}1 \\\\[6pt] 0\\end{pmatrix}\n",
    "\\,,\\qquad\n",
    "\\lvert 1 \\rangle = \\begin{pmatrix}0 \\\\[6pt] 1\\end{pmatrix} $"
   ]
  },
  {
   "cell_type": "markdown",
   "id": "c632a23d-ed55-4a67-84d8-b5b45b3699e8",
   "metadata": {},
   "source": [
    "A pure qubit state (since it is a superposition of basis states $|0⟩$ and $|1⟩$), can be described by a linear combination as:\n",
    "\n",
    "$\n",
    "{\\displaystyle |\\psi \\rangle =\\alpha |0\\rangle +\\beta |1\\rangle }\n",
    "$ \n",
    "\n",
    "where $\\alpha$ and $\\beta$ are complex numbers representing probability amplitudes. A qubit collapses into a basis state of $|0⟩$ or $|1⟩$ only upon measurement, with probabilities $|\\alpha|^2$ and $|\\beta|^2$ respectively. Prior to measurement, a qubit always exists as a superposition of states. It is also worth noting that $ {\\displaystyle |\\alpha |^{2}+|\\beta |^{2}=1} $ (all probabilities in a set must sum to $1$).\n",
    "\n",
    "\n",
    "When we have more than one qubit, we describe its joint state via a tensor product. Each qubit lives in a 2-dimensional space spanned by $|0⟩$ and $|1⟩$. It is worth noting that a tensor product $(⊗)$ stacks vectors as follows:\n",
    "\n",
    "$\n",
    "\\begin{pmatrix}a\\\\b\\end{pmatrix}\n",
    "\\otimes\n",
    "\\begin{pmatrix}c\\\\d\\end{pmatrix}=\n",
    "\\begin{pmatrix}\n",
    "a\\,c\\\\\n",
    "a\\,d\\\\\n",
    "b\\,c\\\\\n",
    "b\\,d\n",
    "\\end{pmatrix}\n",
    "$\n"
   ]
  },
  {
   "cell_type": "markdown",
   "id": "c05397cd-01ec-41ac-adf2-488ed6674c12",
   "metadata": {},
   "source": [
    "Thus, two qubits live in a 4-dimensional space, and the vectors for all combinations of basis states are given by:\n",
    "\n",
    "$  \n",
    "\\begin{aligned}\n",
    "\\lvert00\\rangle\n",
    "&= \\lvert0\\rangle \\otimes \\lvert0\\rangle\n",
    "= \\begin{pmatrix}1\\\\0\\end{pmatrix}\n",
    "  \\otimes\n",
    "  \\begin{pmatrix}1\\\\0\\end{pmatrix}\n",
    "= \\begin{pmatrix}1\\\\0\\\\0\\\\0\\end{pmatrix},\\\\[8pt]\n",
    "\\lvert01\\rangle\n",
    "&= \\lvert0\\rangle \\otimes \\lvert1\\rangle\n",
    "= \\begin{pmatrix}1\\\\0\\end{pmatrix}\n",
    "  \\otimes\n",
    "  \\begin{pmatrix}0\\\\1\\end{pmatrix}\n",
    "= \\begin{pmatrix}0\\\\1\\\\0\\\\0\\end{pmatrix},\\\\[8pt]\n",
    "\\lvert10\\rangle\n",
    "&= \\lvert1\\rangle \\otimes \\lvert0\\rangle\n",
    "= \\begin{pmatrix}0\\\\1\\end{pmatrix}\n",
    "  \\otimes\n",
    "  \\begin{pmatrix}1\\\\0\\end{pmatrix}\n",
    "= \\begin{pmatrix}0\\\\0\\\\1\\\\0\\end{pmatrix},\\\\[8pt]\n",
    "\\lvert11\\rangle\n",
    "&= \\lvert1\\rangle \\otimes \\lvert1\\rangle\n",
    "= \\begin{pmatrix}0\\\\1\\end{pmatrix}\n",
    "  \\otimes\n",
    "  \\begin{pmatrix}0\\\\1\\end{pmatrix}\n",
    "= \\begin{pmatrix}0\\\\0\\\\0\\\\1\\end{pmatrix}.\n",
    "\\end{aligned}\n",
    "$"
   ]
  },
  {
   "cell_type": "markdown",
   "id": "214d2c3a-24d1-47a4-9305-a01c4741b789",
   "metadata": {},
   "source": [
    "## Quantum Gates\n",
    "\n",
    "In practice, a qubit might be something like the spin of an electron or the polarisation of a photon. Each of these systems can be \"manipulated\" by physical operations like lasers, pulses, waves, etc.\n",
    "\n",
    "Similar to logic gates like NOT, AND, etc. which manipuate bits in classical circuits, we have quantum logic gates which operate on a set of qubits. Mathematically, each state is a vector, and each gate is a matrix $U$. Gates are reversible operations and  $ U^†U=I$"
   ]
  },
  {
   "cell_type": "markdown",
   "id": "f86194c9-e6e2-4653-893b-d92bcb1ff9c5",
   "metadata": {},
   "source": [
    "$$\n",
    "H = \\frac{1}{\\sqrt2}\\begin{pmatrix}\n",
    "1 & 1\\\\\n",
    "1 & -1\n",
    "\\end{pmatrix}\n",
    "$$"
   ]
  },
  {
   "cell_type": "code",
   "execution_count": null,
   "id": "d8c79e62-b378-4a1d-9d11-50c164a6e6d7",
   "metadata": {},
   "outputs": [],
   "source": []
  }
 ],
 "metadata": {
  "kernelspec": {
   "display_name": "Python 3 (ipykernel)",
   "language": "python",
   "name": "python3"
  },
  "language_info": {
   "codemirror_mode": {
    "name": "ipython",
    "version": 3
   },
   "file_extension": ".py",
   "mimetype": "text/x-python",
   "name": "python",
   "nbconvert_exporter": "python",
   "pygments_lexer": "ipython3",
   "version": "3.13.5"
  }
 },
 "nbformat": 4,
 "nbformat_minor": 5
}
