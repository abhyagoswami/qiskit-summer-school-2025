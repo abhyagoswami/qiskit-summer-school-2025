{
 "cells": [
  {
   "cell_type": "markdown",
   "id": "088d2943",
   "metadata": {},
   "source": [
    "# Quantum Mechanics Refresher\n",
    "\n",
    "\n",
    "Before the 20th century, physics was dominated by Newtonian mechanics and Maxwell's electromagnetism. Physical phenomena followed clear trajectories governed by laws of motion, and other wave-like phenomena such as magnetism followed the electromagnetic laws.\n",
    "These theories excelled at describing macroscopic motion, planetary orbits, and electromagnetic waves. However, there were subtle atomic anomalies that could not be explained using classical physics. \n",
    "\n",
    "### Max Planck and Blackbody Radiation (Early 1900s)\n",
    "One of the earliest ways this was quantified was through the theory of black body radiation. A black body is a, idealised **theoretical** object that absorbs all incident electromagnetic radiation, regardless of frequency or angle of incidence, and re-emits its own thermal radiation on a spectrum determined solely by its temperature. According to classical physics, energy was thought to be \"continuous\". This predicated that at short wavelengths, blackbody radiation would emit infinite energy, which is known as the **ultraviolet catastrophe**. Mathematically, as wavelength $\\rightarrow 0$, then $E \\rightarrow \\infin$.\n",
    "\n",
    "In 1900, Max Planck resolved this paradox by proposing that electromagnetic energy is not exchanged continuously, but rather in discrete quanta of size:"
   ]
  },
  {
   "cell_type": "markdown",
   "id": "3f37742c",
   "metadata": {},
   "source": [
    "$E=hv$\n",
    "\n",
    "Where $h$ is Planck’s constant and $v$ is the radiation frequency.\n",
    "This simple hypothesis produced a radiation spectrum that matched measurements exactly and showed that energy flows in quanta.\n"
   ]
  },
  {
   "cell_type": "markdown",
   "id": "a9e2675f",
   "metadata": {},
   "source": [
    "### The Photoelectric Effect (Early 1900s)\n",
    "\n",
    "The photoelectric effect is the emission of electrons from a metallic surface when light is shone on it. Under classical physics, we expect that the **intensity** (brightness) of light would proportionally control how much energy electrons in the metallic material gain. We also expected that electrons would gain energy continuously and gradually, meaning that a sufficiently intense beam (even at a low frquency) would eventually accumulate enough energy to cause electron emission.\n",
    "\n",
    "In fact, experimental analyses observed that electrons were emitted immediately when the light struck, even at low intensities. That is, there was no \"build-up\" time for the energy to accumulate. Also, below a certain **threshold frequency** $v_0$, no electrion were ejected at all, now matter how intense the light! \n",
    "\n",
    "In 1905 Albert Einstein proposed the radical idea that light is not a simple wave. It behaves as particles called **photons**,  each with energy proportional to its frequency $E = hv$; once again, where $h$ is Planck’s constant and $v$ is the light's frequency. This photon model proposed many new points:\n",
    "- **One-to-one interaction**: a single photon interacts with a single electron.\n",
    "- **Work function** $\\Phi$: there exists a minimum energy required for electron emission from the metal. That is, if $E=hv < \\Phi$, no electron is emitted.\n",
    "- **Energy conservation**: when the photon's energy is $> \\Phi$, the excess becomes the electron’s kinetic energy.\n",
    "\n",
    "\n",
    "\n",
    "\n",
    "\n"
   ]
  },
  {
   "cell_type": "markdown",
   "id": "8abbfc6d",
   "metadata": {},
   "source": [
    "### Bohr's Model for Atoms (~1913)\n",
    "Ernest Rutherford showed that atoms consist of a positively charged nucleus containing nearly all of the atom's mass, surrounded by orbiting negatively charged electrons. This model arose from Rutherford's gold foil experiment, which revealed that atoms are mostly empty space with a concentrated positive charge at the center. However, this model couldn't explain why atoms wree stable.By the classical theory, electrons orbiting the nucleus would constantly radiate (lose) energy and spiral into the nucleus, causing the atom to collapse, whereas in reality this did not occur. It also couldn't account for the very discrete wavelengths of light emitted by atoms, such as those seen in hydrogen's spectrum.\n",
    "\n",
    "In 1913, Bohr proposed a new model. Electrons orbit the nucleus in quantised energy levels, and transitions between levels emit/absorb photons. In simple terms, this meant that electrons orbit the nucleus in disrete circles called \"shells\", each with a fixed radius $r_n$ and fixed energy level $E_n$. Bohr also proposed that while an electron remains in a permitted orbit, it does not emit/absorb energy. Energy changes occur only when:\n",
    "- Electrons drop from a higher orbit $n_b$ to a lower one $n_a$, in which case they emit a single photon:  $E_{photon} = hv = E_{n_b} - E_{n_a}$\n",
    "- Electrons rise from a lower orbit  $n_a$ to a higher one $n_b$, in which case they absorb a photon of the exact energy needed.\n",
    "\n",
    "\n",
    "### Wave-particle Duality (1924)\n",
    "In 1924, Louis de Broglie suggested that since light (which was previously thought to be purely a wave) behaves like a particle, then particles such as electrons may also show wave-like behaviour. This revolutionary concept, known as wave-particle duality, is a fundamental of quantum mechanics. The implication of this was that particles and waves are two aspects of the same quantum reality, and whether one observes wave-like or particle-like behavior depends on the experimental setup.\n",
    "\n",
    "De Broglie proposed that a particle's wavelength $\\lambda$ is related to its momentum $p$ via the equation:\n",
    "\n",
    "$ \\lambda = \\frac{h}{p}$\n",
    "\n",
    "Where $h$ is Planck's constant. In fact, this dual nature of matter was later validated by electron diffraction experiments by Davisson and Germer. In 1927, they observed that electrons scattered off crystal lattices produced interference patterns, much like a wave! However, it is worth noting that for non-microscopic objects like a tennis ball, $p$ is so large that $\\lambda$ is effectively zero, almost undetectable. This explains why everyday objects appear to follow classical laws of motion and do not exhibit detectable wave-like properties. \n",
    "\n",
    "### Heisenberg’s Matrix Mechanics (1925)\n",
    "In 1925, Werner Heisenberg introduced the first complete and consistent mathematical formalism of quantum theory, now known as matrix mechanics. Its the following key features:\n",
    "- **Observables as matrices**: physical quantities such as position $X$, momentum $P$ and energy $\\bar{H}$ would not be represented by numerical values, but instead as matrices (operators).\n",
    "\n",
    "Let $\\hat{A}$ be any observable (measurable quantity) in quantum mechanics, such as position, momentum, etc. In Heisenberg’s formulation, instead of states evolving in time, the operators $\\hat{A}$ themselves carry the time dependence: $\\hat{A} = \\hat{A}(t)$. Also, note that $\\bar{H}$ is the energy operator. \n",
    "\n",
    "- **Lack of commutativity**: $XP ≠ PX$ for matrices. The commutator $[\\hat{H},\\,\\hat{A}]$ is defined as $\\hat{H}\\hat{A} - \\hat{A}\\hat{H}$. Essentially, if $[\\hat{H},\\,\\hat{A}] = 0$ then commutativivity is present. \n",
    "\n",
    "The main equation is given by:\n",
    "\n",
    "$ \\frac{d\\hat{A}}{dt} = \\frac{i}{\\bar{h}} [\\hat{H},\\,\\hat{A}] + \\frac{\\partial \\hat{A}}{\\partial t}$\n",
    "\n",
    "where:\n",
    "\n",
    "- $\\hat{A(t)}$ is any quantum observable, e.g. $\\hat{x}$.  \n",
    "- $\\hat{H}$ is the Hamiltonian (energy operator).  \n",
    "- $[\\hat{H},\\,\\hat{A}]$ is the commutator.  \n",
    "- $i = \\sqrt{-1}$ is the imaginary unit and $\\bar{h} = \\frac{h}{2\\pi} $ is the reduced Planck constant.\n",
    "- $\\frac{\\partial \\hat{A}}{\\partial t}$ accounts for any explicit time dependence of $\\hat{A}$.\n",
    "\n",
    "In fact, because matrices generally do not commute ($[\\hat{H},\\,\\hat{A}] ≠ 0$), this encodes Heisenberg's uncertainty principle which states that simultaneously measuring both the exact position and momentum of a particle is impossible. The more accurately one is known, the less accurate the measurement of the other becomes. This places a major limitation on masuring phenomena at a quantum level.\n",
    "\n",
    "\n",
    "\n",
    "\n",
    "\n"
   ]
  },
  {
   "cell_type": "markdown",
   "id": "f86194c9-e6e2-4653-893b-d92bcb1ff9c5",
   "metadata": {},
   "source": [
    "$$\n",
    "H = \\frac{1}{\\sqrt2}\\begin{pmatrix}\n",
    "1 & 1\\\\\n",
    "1 & -1\n",
    "\\end{pmatrix}\n",
    "$$"
   ]
  },
  {
   "cell_type": "code",
   "execution_count": null,
   "id": "85493555",
   "metadata": {},
   "outputs": [],
   "source": []
  }
 ],
 "metadata": {
  "kernelspec": {
   "display_name": "Python 3 (ipykernel)",
   "language": "python",
   "name": "python3"
  },
  "language_info": {
   "codemirror_mode": {
    "name": "ipython",
    "version": 3
   },
   "file_extension": ".py",
   "mimetype": "text/x-python",
   "name": "python",
   "nbconvert_exporter": "python",
   "pygments_lexer": "ipython3",
   "version": "3.13.5"
  }
 },
 "nbformat": 4,
 "nbformat_minor": 5
}
