{
 "cells": [
  {
   "cell_type": "markdown",
   "id": "ca9c8cac",
   "metadata": {},
   "source": [
    "# Chapter 3: Milestones in Quantum Mechanics\n",
    "\n",
    "### 3.1 Feynman's Vision\n",
    "\n",
    "In 1981, Richard Feynman, proposed a new kind of computer upon contemplating the implications of quantum mechanics: \"You can simulate this with a quantum system, with quantum computer elements. It’s not a Turing machine, but a machine of a different kind\".He observed that classical machines hit an exponential wall. For a system of $R$ particles, there exists a function called the amplitude consisting of the particles at position $x_1, x_2, \\ldots, x_R$ at time $t$. This simply had too many variables, and it could not be simulated with a normal computer. In the 1980s, Yuri Manin and Paul Benioff also showed that a superposed quantum system has a vastly bigger state‑space than a classical system. Evidently, classical space has $N$ discrete levels, however superposed quantum systems have $c^N$ discrete levels. \n",
    "\n",
    "Formally, John Bell showed that no classical \"hidden variable\" theory could reproduce the predictions of quantum mechanics. However, even before this was widely accepted, Feynman proposed that quantum mechanics could be used to simulate itself.\n",
    "\n",
    "### Early Foundations (1980-1995)\n",
    "- In 1985, **David Deutsch** formalised the concept of a **universal quantum computer**, which could simulate any quantum system. He also introduced the idea of quantum gates and circuits, laying the groundwork for quantum algorithms.\n",
    "- In 1992, **Umesh Vazirani** showed that by leveraging superposition, you could **define tasks** that are provably hard for any classical algorithm but **feasible on a quantum computer**.\n",
    "- In 1994, **Peter Shor** developed a quantum algorithm for factoring large integers and finding discrete logarithms, demonstrating that quantum computers could solve certain problems exponentially faster than classical computers. This was a major breakthrough, showing the potential of quantum computing for cryptography.\n",
    "\n",
    "### 3.2 Challenges in Quantum Computing\n",
    "\n",
    "\n",
    "\n"
   ]
  }
 ],
 "metadata": {
  "language_info": {
   "name": "python"
  }
 },
 "nbformat": 4,
 "nbformat_minor": 5
}
