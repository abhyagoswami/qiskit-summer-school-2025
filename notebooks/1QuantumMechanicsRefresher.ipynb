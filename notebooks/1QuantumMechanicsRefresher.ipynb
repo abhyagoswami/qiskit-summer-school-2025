{
 "cells": [
  {
   "cell_type": "markdown",
   "id": "088d2943",
   "metadata": {},
   "source": [
    "# 1 Early Theories in Quantum Mechanics\n",
    "\n",
    "Before the 20th century, physics was dominated by Newtonian mechanics and Maxwell's electromagnetism. Physical phenomena followed clear trajectories governed by laws of motion, and other wave-like phenomena such as magnetism followed the electromagnetic laws.\n",
    "These theories excelled at describing macroscopic motion, planetary orbits, and electromagnetic waves. However, there were subtle atomic anomalies that could not be explained using classical physics. \n",
    "\n",
    "### 1.1 Max Planck and Blackbody Radiation (Early 1900s)\n",
    "One of the earliest ways this was quantified was through the theory of black body radiation. A black body is a, idealised **theoretical** object that absorbs all incident electromagnetic radiation, regardless of frequency or angle of incidence, and re-emits its own thermal radiation on a spectrum determined solely by its temperature. According to classical physics, energy was thought to be \"continuous\". This predicated that at short wavelengths, blackbody radiation would emit infinite energy, which is known as the **ultraviolet catastrophe**. Mathematically, as wavelength $\\rightarrow 0$, then $E \\rightarrow \\infin$.\n",
    "\n",
    "In 1900, Max Planck resolved this paradox by proposing that electromagnetic energy is not exchanged continuously, but rather in discrete quanta of size:"
   ]
  },
  {
   "cell_type": "markdown",
   "id": "3f37742c",
   "metadata": {},
   "source": [
    "$E=hv$\n",
    "\n",
    "Where $h$ is Planck’s constant and $v$ is the radiation frequency.\n",
    "This simple hypothesis produced a radiation spectrum that matched measurements exactly and showed that energy flows in quanta.\n"
   ]
  },
  {
   "cell_type": "markdown",
   "id": "a9e2675f",
   "metadata": {},
   "source": [
    "### 1.2 The Photoelectric Effect (Early 1900s)\n",
    "\n",
    "The photoelectric effect is the emission of electrons from a metallic surface when light is shone on it. Under classical physics, we expect that the **intensity** (brightness) of light would proportionally control how much energy electrons in the metallic material gain. We also expected that electrons would gain energy continuously and gradually, meaning that a sufficiently intense beam (even at a low frquency) would eventually accumulate enough energy to cause electron emission.\n",
    "\n",
    "In fact, experimental analyses observed that electrons were emitted immediately when the light struck, even at low intensities. That is, there was no \"build-up\" time for the energy to accumulate. Also, below a certain **threshold frequency** $v_0$, no electrion were ejected at all, now matter how intense the light! \n",
    "\n",
    "In 1905 Albert Einstein proposed the radical idea that light is not a simple wave. It behaves as particles called **photons**,  each with energy proportional to its frequency $E = hv$; once again, where $h$ is Planck’s constant and $v$ is the light's frequency. This photon model proposed many new points:\n",
    "- **One-to-one interaction**: a single photon interacts with a single electron.\n",
    "- **Work function** $\\Phi$: there exists a minimum energy required for electron emission from the metal. That is, if $E=hv < \\Phi$, no electron is emitted.\n",
    "- **Energy conservation**: when the photon's energy is $> \\Phi$, the excess becomes the electron’s kinetic energy.\n",
    "\n",
    "\n",
    "\n",
    "\n",
    "\n"
   ]
  },
  {
   "cell_type": "markdown",
   "id": "8abbfc6d",
   "metadata": {},
   "source": [
    "### 1.3 Bohr's Model for Atoms (~1913)\n",
    "Ernest Rutherford showed that atoms consist of a positively charged nucleus containing nearly all of the atom's mass, surrounded by orbiting negatively charged electrons. This model arose from Rutherford's gold foil experiment, which revealed that atoms are mostly empty space with a concentrated positive charge at the center. However, this model couldn't explain why atoms wree stable.By the classical theory, electrons orbiting the nucleus would constantly radiate (lose) energy and spiral into the nucleus, causing the atom to collapse, whereas in reality this did not occur. It also couldn't account for the very discrete wavelengths of light emitted by atoms, such as those seen in hydrogen's spectrum.\n",
    "\n",
    "In 1913, Bohr proposed a new model. Electrons orbit the nucleus in quantised energy levels, and transitions between levels emit/absorb photons. In simple terms, this meant that electrons orbit the nucleus in disrete circles called \"shells\", each with a fixed radius $r_n$ and fixed energy level $E_n$. Bohr also proposed that while an electron remains in a permitted orbit, it does not emit/absorb energy. Energy changes occur only when:\n",
    "- Electrons drop from a higher orbit $n_b$ to a lower one $n_a$, in which case they emit a single photon:  $E_{photon} = hv = E_{n_b} - E_{n_a}$\n",
    "- Electrons rise from a lower orbit  $n_a$ to a higher one $n_b$, in which case they absorb a photon of the exact energy needed."
   ]
  },
  {
   "cell_type": "markdown",
   "id": "538dc67f",
   "metadata": {},
   "source": [
    "### 1.4 Wave-particle Duality (1924)\n",
    "In 1924, Louis de Broglie suggested that since light (which was previously thought to be purely a wave) behaves like a particle, then particles such as electrons may also show wave-like behaviour. This revolutionary concept, known as wave-particle duality, is a fundamental of quantum mechanics. The implication of this was that particles and waves are two aspects of the same quantum reality, and whether one observes wave-like or particle-like behavior depends on the experimental setup.\n",
    "\n",
    "De Broglie proposed that a particle's wavelength $\\lambda$ is related to its momentum $p$ via the equation:\n",
    "\n",
    "$ \\lambda = \\frac{h}{p}$\n",
    "\n",
    "Where $h$ is Planck's constant. In fact, this dual nature of matter was later validated by electron diffraction experiments by Davisson and Germer. In 1927, they observed that electrons scattered off crystal lattices produced interference patterns, much like a wave! However, it is worth noting that for non-microscopic objects like a tennis ball, $p$ is so large that $\\lambda$ is effectively zero, almost undetectable. This explains why everyday objects appear to follow classical laws of motion and do not exhibit detectable wave-like properties. "
   ]
  },
  {
   "cell_type": "markdown",
   "id": "5d0e0d41",
   "metadata": {},
   "source": [
    "\n",
    "### 1.5 Heisenberg’s Matrix Mechanics & Uncertainty Principle (1925)\n",
    "In 1925, Werner Heisenberg introduced the first complete and consistent mathematical formalism of quantum theory, now known as matrix mechanics. Its the following key features:\n",
    "- **Observables as matrices**: physical quantities such as position $X$, momentum $P$ and energy $\\bar{H}$ would not be represented by numerical values, but instead as matrices (operators).\n",
    "\n",
    "Let $\\hat{A}$ be any observable (measurable quantity) in quantum mechanics, such as position, momentum, etc. In Heisenberg’s formulation, instead of states evolving in time, the operators $\\hat{A}$ themselves carry the time dependence: $\\hat{A} = \\hat{A}(t)$. Also, note that $\\bar{H}$ is the energy operator. \n",
    "\n",
    "- **Lack of commutativity**: $XP ≠ PX$ for matrices. The commutator $[\\hat{H},\\,\\hat{A}]$ is defined as $\\hat{H}\\hat{A} - \\hat{A}\\hat{H}$. Essentially, if $[\\hat{H},\\,\\hat{A}] = 0$ then commutativivity is present. \n",
    "\n",
    "The main equation is given by:\n",
    "\n",
    "$ \\frac{d\\hat{A}}{dt} = \\frac{i}{\\bar{h}} [\\hat{H},\\,\\hat{A}] + \\frac{\\partial \\hat{A}}{\\partial t}$\n",
    "\n",
    "where:\n",
    "\n",
    "- $\\hat{A(t)}$ is any quantum observable, e.g. $\\hat{x}$.  \n",
    "- $\\hat{H}$ is the Hamiltonian (energy operator).  \n",
    "- $[\\hat{H},\\,\\hat{A}]$ is the commutator.  \n",
    "- $i = \\sqrt{-1}$ is the imaginary unit and $\\bar{h} = \\frac{h}{2\\pi} $ is the reduced Planck constant.\n",
    "- $\\frac{\\partial \\hat{A}}{\\partial t}$ accounts for any explicit time dependence of $\\hat{A}$.\n",
    "\n",
    "\n",
    "In fact, because matrices generally do not commute ($[\\hat{H},\\,\\hat{A}] ≠ 0$), this encodes **Heisenberg's uncertainty principle** which states that simultaneously measuring both the exact position and momentum of a particle is impossible. The more accurately one is known, the less accurate the measurement of the other becomes. This places a major limitation on measuring phenomena at a quantum level."
   ]
  },
  {
   "cell_type": "markdown",
   "id": "205d30c9",
   "metadata": {},
   "source": [
    "### 1.6 Schrödinger’s Wave Mechanics (1926)\n",
    "\n",
    "Erwin Schrödinger proposed a new approach by which quantum states would be represented by a wavefunction $\\Psi(x, t)$ that encapsulated all measurable information. Now, instead of evolving operators, we had a complex-valued function of space and time.\n",
    "\n",
    "Schrödinger's equation is a wave equation describes how the quantum state of a physical system changes over time:\n",
    "\n",
    "$i \\hat{h} \\frac{\\partial}{\\partial t}|\\Psi \\rangle = \\hat{H} | \\Psi \\rangle $\n",
    "\n",
    "Furthermore, he introduced the interpretation that the square of the wavefunction $|\\Psi \\rangle^2 = |\\Psi(x, t)|^2$ represents the **probability density** of finding the particle at position $x$ at time $t$."
   ]
  },
  {
   "cell_type": "markdown",
   "id": "da5a60cc",
   "metadata": {},
   "source": [
    "# 2 Components of Quantum Mechanics\n",
    "\n",
    "### 2.1 Superposition\n",
    "It is evident that classical systems exist in single states. Superposition is the ability of a quantum system to be in multiple states at once until measured. For example, a particles such as electrons may be in a combination of states, however measuring its state causes it to collapse into a singular one.\n",
    "\n",
    "Note that Schrödinger equation is linear, which means that if $\\Psi_1$ and $\\Psi_2$ are solutions, then their linear superpositions $\\Psi = c_1\\Psi_1 + c_2\\Psi_1$ are also solutions for any complex constants $c_1$ and $c_2$ (based on linear algebra). This represents the **superposition principle**, which states that quantum states can exist as linear combinations of other states. In simple terms, it means that a quantum does not need to be a fixed state, and can be a combination. Physically, until the system is measured, it behaves like all those components at once! However, one measured we only see one definite outcome and each has probability $|c_i|^2$.\n",
    "\n",
    "### 2.2 Interference\n",
    "\n",
    "The famous **Double slit experiment** is one where an electron shot from a source encounters two slits it may pass through to become incident on a surface ahead. If any one of the slits is covered, the electron simply becomes strikes the surface with a normal distribution directly past the spot of the slit, which is expected behaviour. However, when both slits remain uncovered, the electrons strike in an odd pattern with throughs and peaks. In fact, they even strike with the greatest incidence between the two slits (where the slit was not directly present). What we observe is superposition and interference.\n",
    "\n",
    "- **Superposition**: the electron's wavefunction splits into two: $\\Psi = \\Psi_{\\text{slit}1} + \\Psi_{\\text{slit}2}$. When unobserved, it exists as a superposition of both states: $|\\Psi \\rangle = \\frac{1}{\\sqrt{2}} (|\\text{left}\\rangle + |\\text{right}\\rangle)$. However, upon measurement the wavefunction collapses to one of these paths each with 50% probability.\n",
    "- **Interference**: as the collapsed wavefunctions interact they produce new waves with different amplitudes, resulting in interference patterns.\n",
    "\n",
    "The most important thing to note is that since both wavefunctions are solutions, they linear combinations of both is also a solution. This means that in physical terms, the partical technically went through both slits at the same time. However, if we measure the trajectory of electrons (or mathematically calcuate it) then the interference pattern no longer remains! The system collapses to the simple normal distribution directly behind the slits again.\n",
    "\n",
    "Remarkably, the interference patterns emerge even when particles pass the slits one at a time, signifying that each particle is interfereing with itself."
   ]
  },
  {
   "cell_type": "markdown",
   "id": "fe6dde4a",
   "metadata": {},
   "source": [
    "# 3 Modern Quantum Mechanics\n",
    "\n",
    "### 3.1 Quantum Entanglement (1935)\n",
    "A major publication which marked the start of modern quantum theory was the Einstein, Podolsky and Rosen Paradox (EPR Paradox) published in 1935. It proposed a thought experiment that challenged the completeness of existing quantum theory. Quantum theory predicts that two particles can become \"correlated\" in such a way that measuring one instantly determines the state of the other, no matter how far apart they are. This phenomena is called **entanglement**. An obvious answer may be that these particles exchange information faster than light, which is impossible since it violates the theory of special relativity.\n",
    "\n",
    "Another intuitive way to solve this would be to assume particles had pre-existing properties that become pronounced when measured which current quantum theory did not account for. In fact, we know today that entangled objects behave as a single quantum system. \n",
    "\n",
    "Some time later, Schrödinger formally coined the term entanglement, describing it as two (or more) particles sharing a joint quantum state that cannot be factored into independent states for each particle. It has the following properties:\n",
    "- **Non-separability**: only the combined system has a well-defined wavefunction, individual particles do not.\n",
    "- **Perfect correlations**: measurement outcomes on one particle immediately determine those on the other, regardless of distance. However, no usable information or signal travels faster than light.\n",
    "- **Loss of individuality**: before measurement, A and B don’t each have their own independent quantum states, only the pair as a whole does. \n",
    "For example, if we consider two entangled electrons, neither of them has a definite spin. The pair together has a defined relationship, e.g. measuring A to be up gives B to be down or vice versa. Many of these phenomena cannot be explained even today.\n",
    "\n",
    "### 3.2 Other Advancements\n",
    "\n",
    "The field had major advancements in understanding atoms, nuclei, and fundamental forces through theories such as quantum electrodynamics (QED), Feynman diagrams, and nuclear physics. QED describes the nature of reality such that all electrically charged particles like electrons and positrons interact via exchanging photons. This gives a complete account of how these electrically charged particles interact with the electromagnetic field, i.e. with photons. QED is the most most precise and accurately tested theory.\n",
    "\n",
    "In simple terms, charged particles emit and absorb photons which are carriers of the electromagnetic force. Whenever two charges repel or attract, you can think of them exchanging photons back and forth. In QED, the electromagnetic field is quantised, meaning its excitations are photons (the quanta of light). Conversely, the electron field is quantised and its excitations are electrons and positrons.\n",
    "\n",
    "### 3.2 Bell's Theorem (1964)\n",
    "As mentioned earlier, some physicists hoped that quantum weirdness (like entanglement) could be explained by “hidden” properties the particles carry with them. John Bell showed that any theory obeying both locality (no faster-than-light influence) and hidden variables (pre-set instructions), then certain statistical limits called the Bell inequalities must hold. This was $S = E(a,b) + E(a,b') + E(a',b) - E(a',b')$ where $E(x,y)$ is the correlation measured with settings $x$ and $y$ and is bounded as $|S| ≤ 2$.\n",
    "\n",
    "\n",
    "However, quantum mechanics predicts that entangled particles can produce $|S| = 2\\sqrt{2}$, thus violating Bell's inequality for certain measurement settings. In the 1970s, Clauser and others performed the first experimental Bell test and observed $|S| > 2$, and later experiments also found clear violations. This means that nature doesn't obey local realism, i.e. there are no hidden variables that determine outcomes in advance while keeping systems local. Instead, entangled particles are connected in a way that defies classical physics.\n",
    "\n"
   ]
  },
  {
   "cell_type": "markdown",
   "id": "615d9d9f",
   "metadata": {},
   "source": [
    "# 4 Quantum Information Science\n",
    "\n",
    "In the 1990s, researched realised that quantum phenomena could be harnessed and treated as a feature rather than a quirk.\n",
    "\n",
    "- **Shor's algorithm**: a quantum procedure that can factor large numbers exponentially faster than the best known classical algorithms. This showed that a sufficiently large quantum computer could break widely used cryptography.\n",
    "- **Grover's algorithm**: a quantum search routine that finds a specific item in an unsorted set of size $N$ in about $\\sqrt{N}$ steps rather than $N$ classical steps. This demonstrated an average quadratic speed-up for search problems\n",
    "- **DiVincenzo’s Criteria**: DiVincenzo laid out a set of five practical requirements for building a working quantum computer.\n",
    "- - A scalable system of well-defined qubits.\n",
    "- - The ability to initialise them to a known state.\n",
    "- - Long coherence times (they hold quantum information without decohering).\n",
    "- - A universal set of quantum gates.\n",
    "- - A way to measure individual qubits.\n",
    "\n",
    "In the later 1900s, experimentalists began trapping ions, cooling atomic spins, and fabricating superconducting circuits that behaved like single qubits. These demonstrations proved the principle that you could isolate and control the tiniest quantum systems.\n"
   ]
  }
 ],
 "metadata": {
  "kernelspec": {
   "display_name": "Python 3 (ipykernel)",
   "language": "python",
   "name": "python3"
  },
  "language_info": {
   "codemirror_mode": {
    "name": "ipython",
    "version": 3
   },
   "file_extension": ".py",
   "mimetype": "text/x-python",
   "name": "python",
   "nbconvert_exporter": "python",
   "pygments_lexer": "ipython3",
   "version": "3.13.5"
  }
 },
 "nbformat": 4,
 "nbformat_minor": 5
}
