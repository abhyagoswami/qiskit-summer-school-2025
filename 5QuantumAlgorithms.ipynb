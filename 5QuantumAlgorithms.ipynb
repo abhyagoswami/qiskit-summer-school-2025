{
 "cells": [
  {
   "cell_type": "markdown",
   "id": "feb6a184",
   "metadata": {},
   "source": [
    "# 5 Quantum Algorithms"
   ]
  }
 ],
 "metadata": {
  "language_info": {
   "name": "python"
  }
 },
 "nbformat": 4,
 "nbformat_minor": 5
}
